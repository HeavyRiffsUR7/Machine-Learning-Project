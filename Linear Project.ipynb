{
 "cells": [
  {
   "cell_type": "markdown",
   "id": "53c1bf66-43ce-47da-9d65-b0bdc8b60ed0",
   "metadata": {},
   "source": [
    "# **Housing Prices Prediction using Regression**\n",
    "\n",
    "In the real estate market, accurately predicting house prices is crucial for buyers, sellers, real estate agents, and financial institutions. Many factors influence property values, including location, size, quality, and various structural features. Machine learning techniques can help uncover complex relationships between these variables and provide reliable price estimations.\n",
    "\n",
    "This project uses a real-world housing dataset to build and evaluate multiple regression models capable of predicting house sale prices. The analysis covers the full machine learning pipeline, including data cleaning, feature selection based on correlation analysis, categorical encoding, model comparison, and pipeline deployment.\n",
    "\n",
    "Multiple models were compared — including Linear Regression, Ridge, Lasso, and ElasticNet. The final solution includes a fully functional machine learning pipeline ready for future data predictions.\n"
   ]
  },
  {
   "cell_type": "markdown",
   "id": "e8f13ac0-4810-4f39-a7e7-4553da31a1cf",
   "metadata": {},
   "source": [
    "## 🎯 Objectives"
   ]
  },
  {
   "cell_type": "markdown",
   "id": "e11120e2-320a-4ba6-9520-abe3fd6e27fd",
   "metadata": {},
   "source": [
    "This project aims to:\n",
    "\n",
    "- Predict house sale prices using supervised machine learning regression models.\n",
    "- Perform comprehensive data cleaning, handling missing values and removing irrelevant features.\n",
    "- Conduct feature selection based on correlation analysis to reduce noise and multicollinearity.\n",
    "- Apply appropriate encoding techniques for categorical variables (binary encoding and one-hot encoding).\n",
    "- Train and compare multiple regression algorithms.\n",
    "- Evaluate model performance using key regression metrics: MAE, RMSE, and R².\n",
    "- Build a final reusable machine learning pipeline for future data predictions.\n"
   ]
  },
  {
   "cell_type": "markdown",
   "id": "1440f70e-3929-4ba0-9738-46b8e895a581",
   "metadata": {},
   "source": [
    "---\n",
    "## Table of Contents\n",
    "1. Data Loading\n",
    "2. Data Cleaning and Wrangling\n",
    "3. Exploratory Data Analysis\n",
    "4. Data Processing\n",
    "5. Model Training and Evaluation\n",
    "6. Final Pipeline Implementation\n",
    "7. Final Conclusion\n",
    "---"
   ]
  },
  {
   "cell_type": "markdown",
   "id": "1badfd1a-8ce8-4c28-9170-07aaf10e9d3d",
   "metadata": {},
   "source": [
    "## 1. Data Loading 📂"
   ]
  },
  {
   "cell_type": "markdown",
   "id": "5dd6fd6f-17fc-4da1-9435-439e4aaef71e",
   "metadata": {},
   "source": [
    "Import Libraries:"
   ]
  },
  {
   "cell_type": "code",
   "execution_count": 1,
   "id": "beb9300d-70ed-4130-af5c-bf6fe2df9041",
   "metadata": {},
   "outputs": [],
   "source": [
    "# For data manipulation and tabular data analysis:\n",
    "import pandas as pd \n",
    "\n",
    "# For efficient numerical computations and array operations:\n",
    "import numpy as np\n",
    "\n",
    "# For data visualization and exploratory analysis through plots and graphs:\n",
    "import seaborn as sns\n",
    "import matplotlib.pyplot as plt\n",
    "\n",
    "import warnings\n",
    "warnings.filterwarnings(\"ignore\", category=FutureWarning)\n",
    "\n",
    "from sklearn.exceptions import ConvergenceWarning\n",
    "warnings.filterwarnings(\"ignore\", category=ConvergenceWarning)\n"
   ]
  },
  {
   "cell_type": "markdown",
   "id": "d82ea106-2526-4a8b-85f3-529e87475753",
   "metadata": {},
   "source": [
    "We begin by importing the dataset into a Pandas DataFrame to explore its structure and contents. The initial inspection helps identify the format, shape, and any potential issues such as missing values or incorrect data types."
   ]
  },
  {
   "cell_type": "code",
   "execution_count": 2,
   "id": "f6365803-9c9a-4aa2-bec1-f80ee3d46e33",
   "metadata": {},
   "outputs": [
    {
     "data": {
      "text/html": [
       "<div>\n",
       "<style scoped>\n",
       "    .dataframe tbody tr th:only-of-type {\n",
       "        vertical-align: middle;\n",
       "    }\n",
       "\n",
       "    .dataframe tbody tr th {\n",
       "        vertical-align: top;\n",
       "    }\n",
       "\n",
       "    .dataframe thead th {\n",
       "        text-align: right;\n",
       "    }\n",
       "</style>\n",
       "<table border=\"1\" class=\"dataframe\">\n",
       "  <thead>\n",
       "    <tr style=\"text-align: right;\">\n",
       "      <th></th>\n",
       "      <th>Id</th>\n",
       "      <th>MSSubClass</th>\n",
       "      <th>MSZoning</th>\n",
       "      <th>LotFrontage</th>\n",
       "      <th>LotArea</th>\n",
       "      <th>Street</th>\n",
       "      <th>Alley</th>\n",
       "      <th>LotShape</th>\n",
       "      <th>LandContour</th>\n",
       "      <th>Utilities</th>\n",
       "      <th>...</th>\n",
       "      <th>PoolArea</th>\n",
       "      <th>PoolQC</th>\n",
       "      <th>Fence</th>\n",
       "      <th>MiscFeature</th>\n",
       "      <th>MiscVal</th>\n",
       "      <th>MoSold</th>\n",
       "      <th>YrSold</th>\n",
       "      <th>SaleType</th>\n",
       "      <th>SaleCondition</th>\n",
       "      <th>SalePrice</th>\n",
       "    </tr>\n",
       "  </thead>\n",
       "  <tbody>\n",
       "    <tr>\n",
       "      <th>0</th>\n",
       "      <td>1</td>\n",
       "      <td>60</td>\n",
       "      <td>RL</td>\n",
       "      <td>65.0</td>\n",
       "      <td>8450</td>\n",
       "      <td>Pave</td>\n",
       "      <td>NaN</td>\n",
       "      <td>Reg</td>\n",
       "      <td>Lvl</td>\n",
       "      <td>AllPub</td>\n",
       "      <td>...</td>\n",
       "      <td>0</td>\n",
       "      <td>NaN</td>\n",
       "      <td>NaN</td>\n",
       "      <td>NaN</td>\n",
       "      <td>0</td>\n",
       "      <td>2</td>\n",
       "      <td>2008</td>\n",
       "      <td>WD</td>\n",
       "      <td>Normal</td>\n",
       "      <td>208500</td>\n",
       "    </tr>\n",
       "    <tr>\n",
       "      <th>1</th>\n",
       "      <td>2</td>\n",
       "      <td>20</td>\n",
       "      <td>RL</td>\n",
       "      <td>80.0</td>\n",
       "      <td>9600</td>\n",
       "      <td>Pave</td>\n",
       "      <td>NaN</td>\n",
       "      <td>Reg</td>\n",
       "      <td>Lvl</td>\n",
       "      <td>AllPub</td>\n",
       "      <td>...</td>\n",
       "      <td>0</td>\n",
       "      <td>NaN</td>\n",
       "      <td>NaN</td>\n",
       "      <td>NaN</td>\n",
       "      <td>0</td>\n",
       "      <td>5</td>\n",
       "      <td>2007</td>\n",
       "      <td>WD</td>\n",
       "      <td>Normal</td>\n",
       "      <td>181500</td>\n",
       "    </tr>\n",
       "    <tr>\n",
       "      <th>2</th>\n",
       "      <td>3</td>\n",
       "      <td>60</td>\n",
       "      <td>RL</td>\n",
       "      <td>68.0</td>\n",
       "      <td>11250</td>\n",
       "      <td>Pave</td>\n",
       "      <td>NaN</td>\n",
       "      <td>IR1</td>\n",
       "      <td>Lvl</td>\n",
       "      <td>AllPub</td>\n",
       "      <td>...</td>\n",
       "      <td>0</td>\n",
       "      <td>NaN</td>\n",
       "      <td>NaN</td>\n",
       "      <td>NaN</td>\n",
       "      <td>0</td>\n",
       "      <td>9</td>\n",
       "      <td>2008</td>\n",
       "      <td>WD</td>\n",
       "      <td>Normal</td>\n",
       "      <td>223500</td>\n",
       "    </tr>\n",
       "    <tr>\n",
       "      <th>3</th>\n",
       "      <td>4</td>\n",
       "      <td>70</td>\n",
       "      <td>RL</td>\n",
       "      <td>60.0</td>\n",
       "      <td>9550</td>\n",
       "      <td>Pave</td>\n",
       "      <td>NaN</td>\n",
       "      <td>IR1</td>\n",
       "      <td>Lvl</td>\n",
       "      <td>AllPub</td>\n",
       "      <td>...</td>\n",
       "      <td>0</td>\n",
       "      <td>NaN</td>\n",
       "      <td>NaN</td>\n",
       "      <td>NaN</td>\n",
       "      <td>0</td>\n",
       "      <td>2</td>\n",
       "      <td>2006</td>\n",
       "      <td>WD</td>\n",
       "      <td>Abnorml</td>\n",
       "      <td>140000</td>\n",
       "    </tr>\n",
       "    <tr>\n",
       "      <th>4</th>\n",
       "      <td>5</td>\n",
       "      <td>60</td>\n",
       "      <td>RL</td>\n",
       "      <td>84.0</td>\n",
       "      <td>14260</td>\n",
       "      <td>Pave</td>\n",
       "      <td>NaN</td>\n",
       "      <td>IR1</td>\n",
       "      <td>Lvl</td>\n",
       "      <td>AllPub</td>\n",
       "      <td>...</td>\n",
       "      <td>0</td>\n",
       "      <td>NaN</td>\n",
       "      <td>NaN</td>\n",
       "      <td>NaN</td>\n",
       "      <td>0</td>\n",
       "      <td>12</td>\n",
       "      <td>2008</td>\n",
       "      <td>WD</td>\n",
       "      <td>Normal</td>\n",
       "      <td>250000</td>\n",
       "    </tr>\n",
       "  </tbody>\n",
       "</table>\n",
       "<p>5 rows × 81 columns</p>\n",
       "</div>"
      ],
      "text/plain": [
       "   Id  MSSubClass MSZoning  LotFrontage  LotArea Street Alley LotShape  \\\n",
       "0   1          60       RL         65.0     8450   Pave   NaN      Reg   \n",
       "1   2          20       RL         80.0     9600   Pave   NaN      Reg   \n",
       "2   3          60       RL         68.0    11250   Pave   NaN      IR1   \n",
       "3   4          70       RL         60.0     9550   Pave   NaN      IR1   \n",
       "4   5          60       RL         84.0    14260   Pave   NaN      IR1   \n",
       "\n",
       "  LandContour Utilities  ... PoolArea PoolQC Fence MiscFeature MiscVal MoSold  \\\n",
       "0         Lvl    AllPub  ...        0    NaN   NaN         NaN       0      2   \n",
       "1         Lvl    AllPub  ...        0    NaN   NaN         NaN       0      5   \n",
       "2         Lvl    AllPub  ...        0    NaN   NaN         NaN       0      9   \n",
       "3         Lvl    AllPub  ...        0    NaN   NaN         NaN       0      2   \n",
       "4         Lvl    AllPub  ...        0    NaN   NaN         NaN       0     12   \n",
       "\n",
       "  YrSold  SaleType  SaleCondition  SalePrice  \n",
       "0   2008        WD         Normal     208500  \n",
       "1   2007        WD         Normal     181500  \n",
       "2   2008        WD         Normal     223500  \n",
       "3   2006        WD        Abnorml     140000  \n",
       "4   2008        WD         Normal     250000  \n",
       "\n",
       "[5 rows x 81 columns]"
      ]
     },
     "execution_count": 2,
     "metadata": {},
     "output_type": "execute_result"
    }
   ],
   "source": [
    "df = pd.read_csv('C:/Users/CJB2/Downloads/train.csv')\n",
    "\n",
    "df.head()"
   ]
  },
  {
   "cell_type": "markdown",
   "id": "f2d04a62-c123-4110-86d2-e9d909e2bda7",
   "metadata": {},
   "source": [
    "***Data Loading completed ✅***"
   ]
  },
  {
   "cell_type": "markdown",
   "id": "5b7e79cb-8895-4d41-b5fc-cf0ebfdad240",
   "metadata": {},
   "source": [
    "## 2. Data Cleaning and Wrangling 🧹"
   ]
  },
  {
   "cell_type": "markdown",
   "id": "85e56f55-994a-4199-a8bc-9723592a7dc2",
   "metadata": {},
   "source": [
    "In this section, we inspect the dataset to identify issues that could affect modeling, such as incorrect data types or formatting inconsistencies. We use `.info()` to examine the structure of the dataset and detect incorrect types or non-numeric values. "
   ]
  },
  {
   "cell_type": "markdown",
   "id": "db8acadf-dd8d-42ce-ac16-17914e6dc516",
   "metadata": {},
   "source": [
    "#### Overview\n",
    "Using `.info()`, we confirm that the dataset has many features stored as object and numeric types. Identifying data types is crucial for proper encoding and preprocessing in later steps.\n"
   ]
  },
  {
   "cell_type": "code",
   "execution_count": 5,
   "id": "1eba2851-962b-4f0a-9c60-edba01070f7c",
   "metadata": {},
   "outputs": [
    {
     "name": "stdout",
     "output_type": "stream",
     "text": [
      "<class 'pandas.core.frame.DataFrame'>\n",
      "RangeIndex: 1460 entries, 0 to 1459\n",
      "Data columns (total 81 columns):\n",
      " #   Column         Non-Null Count  Dtype  \n",
      "---  ------         --------------  -----  \n",
      " 0   Id             1460 non-null   int64  \n",
      " 1   MSSubClass     1460 non-null   int64  \n",
      " 2   MSZoning       1460 non-null   object \n",
      " 3   LotFrontage    1201 non-null   float64\n",
      " 4   LotArea        1460 non-null   int64  \n",
      " 5   Street         1460 non-null   object \n",
      " 6   Alley          91 non-null     object \n",
      " 7   LotShape       1460 non-null   object \n",
      " 8   LandContour    1460 non-null   object \n",
      " 9   Utilities      1460 non-null   object \n",
      " 10  LotConfig      1460 non-null   object \n",
      " 11  LandSlope      1460 non-null   object \n",
      " 12  Neighborhood   1460 non-null   object \n",
      " 13  Condition1     1460 non-null   object \n",
      " 14  Condition2     1460 non-null   object \n",
      " 15  BldgType       1460 non-null   object \n",
      " 16  HouseStyle     1460 non-null   object \n",
      " 17  OverallQual    1460 non-null   int64  \n",
      " 18  OverallCond    1460 non-null   int64  \n",
      " 19  YearBuilt      1460 non-null   int64  \n",
      " 20  YearRemodAdd   1460 non-null   int64  \n",
      " 21  RoofStyle      1460 non-null   object \n",
      " 22  RoofMatl       1460 non-null   object \n",
      " 23  Exterior1st    1460 non-null   object \n",
      " 24  Exterior2nd    1460 non-null   object \n",
      " 25  MasVnrType     588 non-null    object \n",
      " 26  MasVnrArea     1452 non-null   float64\n",
      " 27  ExterQual      1460 non-null   object \n",
      " 28  ExterCond      1460 non-null   object \n",
      " 29  Foundation     1460 non-null   object \n",
      " 30  BsmtQual       1423 non-null   object \n",
      " 31  BsmtCond       1423 non-null   object \n",
      " 32  BsmtExposure   1422 non-null   object \n",
      " 33  BsmtFinType1   1423 non-null   object \n",
      " 34  BsmtFinSF1     1460 non-null   int64  \n",
      " 35  BsmtFinType2   1422 non-null   object \n",
      " 36  BsmtFinSF2     1460 non-null   int64  \n",
      " 37  BsmtUnfSF      1460 non-null   int64  \n",
      " 38  TotalBsmtSF    1460 non-null   int64  \n",
      " 39  Heating        1460 non-null   object \n",
      " 40  HeatingQC      1460 non-null   object \n",
      " 41  CentralAir     1460 non-null   object \n",
      " 42  Electrical     1459 non-null   object \n",
      " 43  1stFlrSF       1460 non-null   int64  \n",
      " 44  2ndFlrSF       1460 non-null   int64  \n",
      " 45  LowQualFinSF   1460 non-null   int64  \n",
      " 46  GrLivArea      1460 non-null   int64  \n",
      " 47  BsmtFullBath   1460 non-null   int64  \n",
      " 48  BsmtHalfBath   1460 non-null   int64  \n",
      " 49  FullBath       1460 non-null   int64  \n",
      " 50  HalfBath       1460 non-null   int64  \n",
      " 51  BedroomAbvGr   1460 non-null   int64  \n",
      " 52  KitchenAbvGr   1460 non-null   int64  \n",
      " 53  KitchenQual    1460 non-null   object \n",
      " 54  TotRmsAbvGrd   1460 non-null   int64  \n",
      " 55  Functional     1460 non-null   object \n",
      " 56  Fireplaces     1460 non-null   int64  \n",
      " 57  FireplaceQu    770 non-null    object \n",
      " 58  GarageType     1379 non-null   object \n",
      " 59  GarageYrBlt    1379 non-null   float64\n",
      " 60  GarageFinish   1379 non-null   object \n",
      " 61  GarageCars     1460 non-null   int64  \n",
      " 62  GarageArea     1460 non-null   int64  \n",
      " 63  GarageQual     1379 non-null   object \n",
      " 64  GarageCond     1379 non-null   object \n",
      " 65  PavedDrive     1460 non-null   object \n",
      " 66  WoodDeckSF     1460 non-null   int64  \n",
      " 67  OpenPorchSF    1460 non-null   int64  \n",
      " 68  EnclosedPorch  1460 non-null   int64  \n",
      " 69  3SsnPorch      1460 non-null   int64  \n",
      " 70  ScreenPorch    1460 non-null   int64  \n",
      " 71  PoolArea       1460 non-null   int64  \n",
      " 72  PoolQC         7 non-null      object \n",
      " 73  Fence          281 non-null    object \n",
      " 74  MiscFeature    54 non-null     object \n",
      " 75  MiscVal        1460 non-null   int64  \n",
      " 76  MoSold         1460 non-null   int64  \n",
      " 77  YrSold         1460 non-null   int64  \n",
      " 78  SaleType       1460 non-null   object \n",
      " 79  SaleCondition  1460 non-null   object \n",
      " 80  SalePrice      1460 non-null   int64  \n",
      "dtypes: float64(3), int64(35), object(43)\n",
      "memory usage: 924.0+ KB\n"
     ]
    }
   ],
   "source": [
    "df.info()"
   ]
  },
  {
   "cell_type": "markdown",
   "id": "64af8167-160a-43b2-8b85-57929c9b01c7",
   "metadata": {},
   "source": [
    "So far, we can identify the presence of missing values across several features, which will require dedicated treatment during the cleaning process.\n"
   ]
  },
  {
   "cell_type": "markdown",
   "id": "fff9e100-2b42-4bbd-bcb5-8dce72e0fc11",
   "metadata": {},
   "source": [
    "*Next, we identify the features containing those missing values.*"
   ]
  },
  {
   "cell_type": "code",
   "execution_count": 7,
   "id": "658f2a05-7295-41f2-9b4c-05e10f703875",
   "metadata": {},
   "outputs": [
    {
     "data": {
      "text/plain": [
       "PoolQC          1453\n",
       "MiscFeature     1406\n",
       "Alley           1369\n",
       "Fence           1179\n",
       "MasVnrType       872\n",
       "FireplaceQu      690\n",
       "LotFrontage      259\n",
       "GarageType        81\n",
       "GarageYrBlt       81\n",
       "GarageFinish      81\n",
       "GarageQual        81\n",
       "GarageCond        81\n",
       "BsmtFinType2      38\n",
       "BsmtExposure      38\n",
       "BsmtFinType1      37\n",
       "BsmtCond          37\n",
       "BsmtQual          37\n",
       "MasVnrArea         8\n",
       "Electrical         1\n",
       "dtype: int64"
      ]
     },
     "execution_count": 7,
     "metadata": {},
     "output_type": "execute_result"
    }
   ],
   "source": [
    "missing_values=df.isnull().sum()\n",
    "missing_values=missing_values[missing_values>0].sort_values(ascending=False)\n",
    "missing_values"
   ]
  },
  {
   "cell_type": "markdown",
   "id": "51e159eb-c421-46bf-8e4a-4e1eca227c83",
   "metadata": {},
   "source": [
    "####  Missing Values Treatment\n",
    "\n",
    "Missing values were handled based on the nature and context of each feature:\n",
    "\n",
    "- For features representing optional property characteristics (e.g. pools, fences, garages, basements), missing values were replaced with descriptive strings indicating absence.\n",
    "- For numerical features representing area or size (e.g. `MasVnrArea`), missing values were replaced with `0` to indicate no area.\n",
    "- For features like `LotFrontage`, missing values were imputed using the median value within each neighborhood to better capture local patterns.\n",
    "- For the `Electrical` feature, missing values were replaced with the most common class (`SBrkr`).\n",
    "\n",
    "We can check the description on each code cell for more context:\n"
   ]
  },
  {
   "cell_type": "markdown",
   "id": "80cd79ad-1c4b-48f1-890e-28f9e738cc07",
   "metadata": {},
   "source": [
    "---"
   ]
  },
  {
   "cell_type": "code",
   "execution_count": 9,
   "id": "34e89c00-acb8-44fc-a5d5-c818a9226bbe",
   "metadata": {},
   "outputs": [],
   "source": [
    "# Replacing missing values for features indicating absence of a pool\n",
    "df['PoolQC'].fillna('No Pool',inplace=True)"
   ]
  },
  {
   "cell_type": "code",
   "execution_count": 11,
   "id": "c146ccd6-626e-483d-b81e-1b6cdbaabbe3",
   "metadata": {},
   "outputs": [],
   "source": [
    "# Alley access not present\n",
    "df['Alley'].fillna('No alley access', inplace=True)"
   ]
  },
  {
   "cell_type": "code",
   "execution_count": 13,
   "id": "a14e2cd4-e53c-4fdc-ad22-e13a2623c4cc",
   "metadata": {},
   "outputs": [],
   "source": [
    "# Fence not present\n",
    "df['Fence'].fillna('No Fence', inplace=True)"
   ]
  },
  {
   "cell_type": "code",
   "execution_count": 15,
   "id": "04e6fb68-7ecd-4fcc-8e1b-8502e375e343",
   "metadata": {},
   "outputs": [],
   "source": [
    "# No masonry veneer type\n",
    "df['MasVnrType'].fillna('None', inplace=True) #tipo"
   ]
  },
  {
   "cell_type": "code",
   "execution_count": 17,
   "id": "533b28fe-c931-454c-a8e0-2c022294720a",
   "metadata": {},
   "outputs": [],
   "source": [
    "# No masonry veneer area (numeric -> set to zero)\n",
    "df['MasVnrArea'].fillna(0, inplace=True)"
   ]
  },
  {
   "cell_type": "code",
   "execution_count": 19,
   "id": "632f67ea-5f31-414e-9256-a45294eb17a6",
   "metadata": {},
   "outputs": [],
   "source": [
    "# No fireplace\n",
    "df['FireplaceQu'].fillna('No Fireplace', inplace=True)"
   ]
  },
  {
   "cell_type": "code",
   "execution_count": 21,
   "id": "a5dbc29e-e53b-4a28-8abb-f56266465899",
   "metadata": {},
   "outputs": [],
   "source": [
    "# No garage present (applies to all related garage features)\n",
    "df['GarageType'].fillna('No Garage', inplace=True)\n",
    "df['GarageYrBlt'].fillna('No Garage', inplace=True)\n",
    "df['GarageFinish'].fillna('No Garage', inplace=True)\n",
    "df['GarageQual'].fillna('No Garage', inplace=True)\n",
    "df['GarageCond'].fillna('No Garage', inplace=True)"
   ]
  },
  {
   "cell_type": "code",
   "execution_count": 23,
   "id": "0c241ef3-5f78-4e07-8eec-4c2a8a138ed1",
   "metadata": {},
   "outputs": [],
   "source": [
    "# No basement present (applies to all related basement features)\n",
    "df['BsmtFinType1'].fillna('No Basement', inplace=True)\n",
    "df['BsmtFinType2'].fillna('No Basement', inplace=True)\n",
    "df['BsmtExposure'].fillna('No Basement', inplace=True)\n",
    "df['BsmtCond'].fillna('No Basement', inplace=True)\n",
    "df['BsmtQual'].fillna('No Basement', inplace=True)"
   ]
  },
  {
   "cell_type": "code",
   "execution_count": 25,
   "id": "0b824f85-309a-43a0-86b9-0b36e9b62ad7",
   "metadata": {},
   "outputs": [],
   "source": [
    "# For Electrical, fill with most common class\n",
    "df['Electrical'].fillna('SBrkr', inplace=True)"
   ]
  },
  {
   "cell_type": "code",
   "execution_count": 27,
   "id": "bfc34ab6-260e-4369-a49a-815ffa2e2bf3",
   "metadata": {},
   "outputs": [],
   "source": [
    "# For LotFrontage, fill missing values with median per Neighborhood\n",
    "df['LotFrontage'] = df.groupby('Neighborhood')['LotFrontage'].transform(lambda x: x.fillna(x.median()))"
   ]
  },
  {
   "cell_type": "markdown",
   "id": "7c34da29-a6e7-470e-aa2c-f91ff3367d48",
   "metadata": {},
   "source": [
    "Unlike other sparse features such as `Fence` or `PoolQC`, which have clear and consistent meanings when missing (e.g., \"No Fence\", \"No Pool\"), the values in `MiscFeature` are highly inconsistent and lack standard categories. Imputing them would introduce noise rather than clarity. For that reason, the column was not considered for cleaning and most likely to be droped.\n",
    "\n",
    "---"
   ]
  },
  {
   "cell_type": "markdown",
   "id": "0f9bcecd-f689-4760-b67f-0f9f333ab1df",
   "metadata": {},
   "source": [
    "*The dataset is now fully prepared for Exploratory Data Analysis (EDA).*"
   ]
  },
  {
   "cell_type": "markdown",
   "id": "5501ad04-0b50-4de0-aa5e-98e713af6d58",
   "metadata": {},
   "source": [
    "***Data Cleaning and Wrangling completed*** ✅"
   ]
  },
  {
   "cell_type": "markdown",
   "id": "86829563-5cfe-4918-87ce-90f8030e6e6b",
   "metadata": {},
   "source": [
    "## 3. Exploratory Data Analysis 📊"
   ]
  },
  {
   "cell_type": "markdown",
   "id": "4aaff6b6-2b8d-4d3c-80af-bf9176ce9a06",
   "metadata": {},
   "source": [
    "In this section we performed exploratory data analysis to understand the structure of the dataset and the relationship between features and the target variable (`SalePrice`).\n",
    "\n",
    "We begin by identifying the categorical features (`object` type) and analyzing how different categories influence average sale price. Then, we assess the numerical features by calculating their Pearson correlation with the target. This helped us identifying which variables had the strongest predictive potential, and remove those with weak or no correlation.\n",
    "\n",
    "This step ensures that we build our model using the most relevant features, improving performance and reducing noise.\n"
   ]
  },
  {
   "cell_type": "markdown",
   "id": "ceb61ba9-93d6-4541-8529-c72bed0d064a",
   "metadata": {},
   "source": [
    "#### Categorical Features' Correlation"
   ]
  },
  {
   "cell_type": "markdown",
   "id": "17c5cb0d-f7fd-44c9-bc1a-63f178c99a96",
   "metadata": {},
   "source": [
    "These are the columns stored as **object** type, which typically represent qualitative information such as zoning, material quality, or property configuration:"
   ]
  },
  {
   "cell_type": "code",
   "execution_count": 29,
   "id": "f155761d-3452-4b25-88fd-2c2d4f22c4e2",
   "metadata": {},
   "outputs": [
    {
     "data": {
      "text/plain": [
       "Index(['MSZoning', 'Street', 'Alley', 'LotShape', 'LandContour', 'Utilities',\n",
       "       'LotConfig', 'LandSlope', 'Neighborhood', 'Condition1', 'Condition2',\n",
       "       'BldgType', 'HouseStyle', 'RoofStyle', 'RoofMatl', 'Exterior1st',\n",
       "       'Exterior2nd', 'MasVnrType', 'ExterQual', 'ExterCond', 'Foundation',\n",
       "       'BsmtQual', 'BsmtCond', 'BsmtExposure', 'BsmtFinType1', 'BsmtFinType2',\n",
       "       'Heating', 'HeatingQC', 'CentralAir', 'Electrical', 'KitchenQual',\n",
       "       'Functional', 'FireplaceQu', 'GarageType', 'GarageYrBlt',\n",
       "       'GarageFinish', 'GarageQual', 'GarageCond', 'PavedDrive', 'PoolQC',\n",
       "       'Fence', 'MiscFeature', 'SaleType', 'SaleCondition'],\n",
       "      dtype='object')"
      ]
     },
     "execution_count": 29,
     "metadata": {},
     "output_type": "execute_result"
    }
   ],
   "source": [
    "df.select_dtypes(include='object').columns"
   ]
  },
  {
   "cell_type": "markdown",
   "id": "63af9717-14aa-4fa5-bd1b-2a8bdb7470aa",
   "metadata": {},
   "source": [
    "We then calculate the average sale price (`SalePrice`) for each category within these features using `groupby()`. This helps uncover which categorical variables have a strong impact on property value based on the variation in mean price across categories.\n"
   ]
  },
  {
   "cell_type": "markdown",
   "id": "ae75b7ac-56f8-4740-9dd6-265739832ddf",
   "metadata": {},
   "source": [
    "cat_cols = df.select_dtypes(include='object').columns\n",
    "\n",
    "for col in cat_cols:\n",
    "\n",
    "    print(f'\\n==={col}===')\n",
    "    \n",
    "    corr_cat=df.groupby(col)['SalePrice'].mean().sort_values(ascending=False)\n",
    "\n",
    "    print(corr_cat)"
   ]
  },
  {
   "cell_type": "markdown",
   "id": "d79a88c4-cd8a-45ff-82d2-d408708c1e46",
   "metadata": {},
   "source": [
    "After reviewing the relationship between each categorical feature and the target variable (`SalePrice`), we selected only those that showed meaningful variation in average sale price across their categories.\n",
    "\n",
    "Two categorical-related features were removed during data preparation due to weak relevance and data quality issues:\n",
    "\n",
    "- **MiscFeature**: This column describes miscellaneous property features (e.g., tennis court, shed), but contains an overwhelming number of missing values and lacks consistent interpretation.\n",
    "\n",
    "- **GarageYrBlt**: Although stored as a numerical feature, this column represents the year the garage was built and overlaps significantly with the house construction year (`YearBuilt`) in most cases.\n",
    "\n",
    "To keep the notebook clean, the grouped outputs were not displayed here, but each feature was manually reviewed. The final selection was based on observed price variation and practical relevance to house value.\n"
   ]
  },
  {
   "cell_type": "markdown",
   "id": "916200f3-5084-4686-a9ef-42f5ada63249",
   "metadata": {},
   "source": [
    "#### Numerical Features' Correlation"
   ]
  },
  {
   "cell_type": "markdown",
   "id": "2dc57ddb-604d-44ba-b02d-d810daea8d7e",
   "metadata": {},
   "source": [
    "We examined the **Pearson** correlation between each numerical feature and the target variable (`SalePrice`), using a threshold to determine which features are relevant.\n",
    "\n",
    "Features with a correlation between **-0.4** and **0.4** were considered to have weak linear relationships with the target and were dropped from the dataset. This helped uss reduce noise, eliminate redundant or weak predictors, and focus on variables with stronger predictive potential."
   ]
  },
  {
   "cell_type": "code",
   "execution_count": 31,
   "id": "01f7b014-983e-4922-b08b-d55fe54e25db",
   "metadata": {},
   "outputs": [
    {
     "name": "stdout",
     "output_type": "stream",
     "text": [
      "Id              -0.021917\n",
      "MSSubClass      -0.084284\n",
      "LotFrontage      0.349876\n",
      "LotArea          0.263843\n",
      "OverallQual      0.790982\n",
      "OverallCond     -0.077856\n",
      "YearBuilt        0.522897\n",
      "YearRemodAdd     0.507101\n",
      "MasVnrArea       0.472614\n",
      "BsmtFinSF1       0.386420\n",
      "BsmtFinSF2      -0.011378\n",
      "BsmtUnfSF        0.214479\n",
      "TotalBsmtSF      0.613581\n",
      "1stFlrSF         0.605852\n",
      "2ndFlrSF         0.319334\n",
      "LowQualFinSF    -0.025606\n",
      "GrLivArea        0.708624\n",
      "BsmtFullBath     0.227122\n",
      "BsmtHalfBath    -0.016844\n",
      "FullBath         0.560664\n",
      "HalfBath         0.284108\n",
      "BedroomAbvGr     0.168213\n",
      "KitchenAbvGr    -0.135907\n",
      "TotRmsAbvGrd     0.533723\n",
      "Fireplaces       0.466929\n",
      "GarageCars       0.640409\n",
      "GarageArea       0.623431\n",
      "WoodDeckSF       0.324413\n",
      "OpenPorchSF      0.315856\n",
      "EnclosedPorch   -0.128578\n",
      "3SsnPorch        0.044584\n",
      "ScreenPorch      0.111447\n",
      "PoolArea         0.092404\n",
      "MiscVal         -0.021190\n",
      "MoSold           0.046432\n",
      "YrSold          -0.028923\n",
      "SalePrice        1.000000\n",
      "Name: SalePrice, dtype: float64\n"
     ]
    }
   ],
   "source": [
    "num_df=df.select_dtypes(include=['float','int'])\n",
    "correlation=num_df.corr()['SalePrice']\n",
    "print(correlation)"
   ]
  },
  {
   "cell_type": "markdown",
   "id": "0b47c879-dc18-430d-add5-efe44b697c07",
   "metadata": {},
   "source": [
    "#### Feature Filtering\n",
    "\n",
    "Based on the previous correlation analysis, we removed features with weak or no relationship to the target variable (`SalePrice`), as well as columns considered redundant or uninformative.\n",
    "\n",
    "This included:\n",
    "\n",
    "- Features with low Pearson correlation (between -0.4 and 0.4)\n",
    "- Columns with excessive missing values already deemed non-essential (`MiscFeature`)\n",
    "- Identifiers like `Id` which do not contribute to prediction\n",
    "\n",
    "After dropping these columns, the dataset was reduced from 81 to 58 features — resulting in a cleaner and more focused set of predictors.\n"
   ]
  },
  {
   "cell_type": "code",
   "execution_count": 33,
   "id": "455abf4b-844c-4d1b-8a0b-3172d69205b7",
   "metadata": {},
   "outputs": [],
   "source": [
    "df.drop(columns= ['Id', 'MiscFeature', 'LotFrontage', 'LotArea', 'BsmtFinSF1',\n",
    "    'BsmtFinSF2', 'BsmtUnfSF', '2ndFlrSF', 'LowQualFinSF', 'BsmtFullBath',\n",
    "    'BsmtHalfBath', 'HalfBath', 'BedroomAbvGr', 'KitchenAbvGr',\n",
    "    'WoodDeckSF', 'OpenPorchSF', 'EnclosedPorch', '3SsnPorch',\n",
    "    'ScreenPorch', 'PoolArea', 'MiscVal', 'YrSold', 'GarageYrBlt'], inplace=True)"
   ]
  },
  {
   "cell_type": "code",
   "execution_count": 35,
   "id": "0c0784e6-fd8d-4e2e-be44-4fafbd6f3f03",
   "metadata": {},
   "outputs": [
    {
     "data": {
      "text/plain": [
       "(1460, 58)"
      ]
     },
     "execution_count": 35,
     "metadata": {},
     "output_type": "execute_result"
    }
   ],
   "source": [
    "df.shape"
   ]
  },
  {
   "cell_type": "markdown",
   "id": "7cfb2a4c-de2f-4ffa-93fb-60f3c6dad988",
   "metadata": {},
   "source": [
    "We can confirm that from 81 we only ended up with 58 valide features."
   ]
  },
  {
   "cell_type": "markdown",
   "id": "577174c5-f555-4b95-b47d-107e70bec0e1",
   "metadata": {},
   "source": [
    "#### Target Variable Distribution\n",
    "\n",
    "We used a histogram that shows that house prices are **right-skewed** most properties are concentrated between 100,000 and 300,000, but a few high-priced houses extend up to \\$755,000, creating a long tail.\n"
   ]
  },
  {
   "cell_type": "code",
   "execution_count": 37,
   "id": "716b0cb9-205a-40fb-ae5b-37cd9f877e67",
   "metadata": {},
   "outputs": [
    {
     "data": {
      "image/png": "[encoded data removed]",
      "text/plain": [
       "<Figure size 640x480 with 1 Axes>"
      ]
     },
     "metadata": {},
     "output_type": "display_data"
    }
   ],
   "source": [
    "import matplotlib.pyplot as plt\n",
    "import seaborn as sns\n",
    "\n",
    "sns.histplot(df['SalePrice'], kde=True)\n",
    "plt.title(\"SalePrice Distribution \")\n",
    "plt.xlabel(\"SalePrice\")\n",
    "plt.ylabel(\"Frequency\")\n",
    "plt.show()\n"
   ]
  },
  {
   "cell_type": "markdown",
   "id": "e8cbbea3-40dd-43b5-8b3b-4861395ddef5",
   "metadata": {},
   "source": [
    "The `.describe()` output confirms this pattern:"
   ]
  },
  {
   "cell_type": "code",
   "execution_count": 39,
   "id": "73e31a1b-039e-494c-811a-245ed04d4c65",
   "metadata": {},
   "outputs": [
    {
     "data": {
      "text/plain": [
       "count      1460.000000\n",
       "mean     180921.195890\n",
       "std       79442.502883\n",
       "min       34900.000000\n",
       "25%      129975.000000\n",
       "50%      163000.000000\n",
       "75%      214000.000000\n",
       "max      755000.000000\n",
       "Name: SalePrice, dtype: float64"
      ]
     },
     "execution_count": 39,
     "metadata": {},
     "output_type": "execute_result"
    }
   ],
   "source": [
    "df['SalePrice'].describe()"
   ]
  },
  {
   "cell_type": "markdown",
   "id": "46932a5a-2c92-491a-84b9-f7a721809799",
   "metadata": {},
   "source": [
    "The skewed distribution has a direct impact on regression metrics:\n",
    "\n",
    "- **MAE (Mean Absolute Error)** is less sensitive to outliers and gives a better sense of average error.\n",
    "- **RMSE (Root Mean Squared Error)** amplifies the effect of large deviations due to its squaring, making it more influenced by high-priced outliers.\n",
    "- Understanding the scale and variance of the target helps contextualize whether an error of, for example, \\$20,000 is relatively large or small compared to the price range.\n",
    "\n",
    "This analysis provides essential context when later interpreting model accuracy."
   ]
  },
  {
   "cell_type": "markdown",
   "id": "e1f17971-949e-4953-adeb-d9c6d9ded928",
   "metadata": {},
   "source": [
    "***Exploratory Data Analysis completed*** ✅"
   ]
  },
  {
   "cell_type": "markdown",
   "id": "61e4991f-db6d-4f14-8717-6933c7370dce",
   "metadata": {},
   "source": [
    "## 4. Data Processing 🛠️"
   ]
  },
  {
   "cell_type": "markdown",
   "id": "3aeba03d-1885-4965-9ba6-209a8d9f0c36",
   "metadata": {},
   "source": [
    "To prepare the dataset for machine learning models, all categorical features need to be converted into numerical format.\n"
   ]
  },
  {
   "cell_type": "markdown",
   "id": "578d23eb-f30b-4e76-a4e7-2af3ef27c0c7",
   "metadata": {},
   "source": [
    "#### Binary Encoding\n",
    "\n",
    "For binary categorical features, we used simple mapping:"
   ]
  },
  {
   "cell_type": "code",
   "execution_count": 41,
   "id": "c7f20f69-1e84-4e2c-be01-47fd7c1ee0ea",
   "metadata": {},
   "outputs": [],
   "source": [
    "df['Street']=df['Street'].map({'Grvl':0, 'Pave':1})\n",
    "df['CentralAir']=df['CentralAir'].map({'N':0, 'Y':1})"
   ]
  },
  {
   "cell_type": "markdown",
   "id": "877bd630-653c-4c22-8226-bebd452cae73",
   "metadata": {},
   "source": [
    "#### One-Hot Encoding\n",
    "\n",
    "For features with multiple categories, one-hot encoding was applied instead. This creates a new **binary column** for each category while avoiding multicollinearity by dropping the first category."
   ]
  },
  {
   "cell_type": "code",
   "execution_count": 43,
   "id": "e452dfc9-fc75-423b-8f98-ef85847a234f",
   "metadata": {},
   "outputs": [],
   "source": [
    "cat_col=['MSZoning', 'Alley', 'LotShape', 'LandContour', 'Utilities',\n",
    "       'LotConfig', 'LandSlope', 'Neighborhood', 'Condition1', 'Condition2',\n",
    "       'BldgType', 'HouseStyle', 'RoofStyle', 'RoofMatl', 'Exterior1st',\n",
    "       'Exterior2nd', 'MasVnrType', 'ExterQual', 'ExterCond', 'Foundation',\n",
    "       'BsmtQual', 'BsmtCond', 'BsmtExposure', 'BsmtFinType1', 'BsmtFinType2',\n",
    "       'Heating', 'HeatingQC', 'Electrical', 'KitchenQual',\n",
    "       'Functional', 'FireplaceQu', 'GarageType', 'GarageFinish', 'GarageQual', 'GarageCond', 'PavedDrive', 'PoolQC',\n",
    "       'Fence', 'SaleType', 'SaleCondition']\n",
    "\n",
    "df=pd.get_dummies(df, columns=cat_col, drop_first=True)"
   ]
  },
  {
   "cell_type": "code",
   "execution_count": 45,
   "id": "73d177dd-55b7-4374-8ca0-be3e796530a0",
   "metadata": {},
   "outputs": [
    {
     "data": {
      "text/plain": [
       "(1460, 235)"
      ]
     },
     "execution_count": 45,
     "metadata": {},
     "output_type": "execute_result"
    }
   ],
   "source": [
    "df.shape"
   ]
  },
  {
   "cell_type": "markdown",
   "id": "d764f1d9-dcb9-43d9-a405-6a7eb016e8ed",
   "metadata": {},
   "source": [
    "As we can see above, after encoding, the total number of features increased from **58** to **235**, reflecting the expansion of categorical variables into multiple binary indicators.\n",
    "\n",
    "This transformation allows linear models to handle categorical information correctly during training."
   ]
  },
  {
   "cell_type": "markdown",
   "id": "56944e9a-18f5-4ec7-b5c5-055cefa388ae",
   "metadata": {},
   "source": [
    "#### Train-Test Split\n",
    "\n",
    "The dataset was divided into **features** (X) and **target** (y), where X represent all predictor variables and y the target variable `SalePrice`."
   ]
  },
  {
   "cell_type": "code",
   "execution_count": 47,
   "id": "84e303fe-45bf-40e7-ace3-68e1565f7e34",
   "metadata": {},
   "outputs": [],
   "source": [
    "y = df['SalePrice']\n",
    "\n",
    "X = df.drop(columns=['SalePrice'])\n"
   ]
  },
  {
   "cell_type": "markdown",
   "id": "f6162a8c-7879-44a7-94fb-ccb7b468f847",
   "metadata": {},
   "source": [
    "To evaluate model performance, we split the data into training and testing sets using an 80/20 ratio. This ensures that the model is trained on a subset of the data and evaluated on unseen data, simulating real-world predictions.\n",
    "\n",
    "The **random_state** parameter was set to 42 to guarantee reproducibility of results."
   ]
  },
  {
   "cell_type": "code",
   "execution_count": 49,
   "id": "d646b034-8766-421a-bba7-e66da586084a",
   "metadata": {},
   "outputs": [],
   "source": [
    "from sklearn.model_selection import train_test_split\n",
    "\n",
    "X_train, X_test, y_train, y_test = train_test_split(\n",
    "    X, y, test_size=0.2, random_state=42\n",
    ")"
   ]
  },
  {
   "cell_type": "markdown",
   "id": "a96ed203-732b-483f-beb8-c81ec9babf53",
   "metadata": {},
   "source": [
    "***Data Processing completed*** ✅"
   ]
  },
  {
   "cell_type": "markdown",
   "id": "1b6e0ce7-f58c-4c08-a6f7-f64461088929",
   "metadata": {},
   "source": [
    "## 5. Model Traning and Evaluation 🖥️"
   ]
  },
  {
   "cell_type": "markdown",
   "id": "366f891c-8666-4d2f-9bc0-dc66b943a870",
   "metadata": {},
   "source": [
    "In this section, we train several regression models to predict house sale prices based on property features. The models are evaluated using **error metrics** that quantify how close the predicted prices are to actual sale prices. The smaller the error, the more reliable the model becomes for business use. \n",
    "\n",
    "Reliable price predictions help set appropriate listing prices, assess property valuation for mortgages or loans, identify undervalued or overvalued assets and support data-driven investment decisions.\n"
   ]
  },
  {
   "cell_type": "markdown",
   "id": "9ca4328a-efe8-4820-bd81-74555e391c72",
   "metadata": {},
   "source": [
    "### Linear Model"
   ]
  },
  {
   "cell_type": "markdown",
   "id": "e5f3cb2c-7f4c-4142-b679-8da151850273",
   "metadata": {},
   "source": [
    "We start by training a simple Linear Regression model as a baseline. This baseline model provides a reference point to compare the performance of more advanced models in the next steps."
   ]
  },
  {
   "cell_type": "code",
   "execution_count": 51,
   "id": "86488e90-7ba9-4c4a-907e-18e9d1a8c43c",
   "metadata": {},
   "outputs": [],
   "source": [
    "from sklearn.linear_model import LinearRegression\n",
    "from sklearn.metrics import mean_absolute_error, mean_squared_error, r2_score\n",
    "\n",
    "LR = LinearRegression()\n",
    "LR.fit(X_train, y_train)\n",
    "y_pred=LR.predict(X_test)\n"
   ]
  },
  {
   "cell_type": "markdown",
   "id": "25efc4a6-7875-40b4-8347-61a55fc9e2c0",
   "metadata": {},
   "source": [
    "The initial Linear Regression model achieved the following performance:\n",
    "\n",
    "- **R² (Test):** 0.70  \n",
    "- **Mean Absolute Error (MAE):** \\$22,134  \n",
    "- **Root Mean Squared Error (RMSE):** \\$48,232\n",
    "\n",
    "From a business perspective, this means that on average, predictions deviate around 22,000 from actual sale prices. Given that the average house price is around 180,000, this represents approximately **12% average error**, which is a reasonable starting point for many real estate valuation scenarios.\n",
    "\n",
    "However, the higher RMSE suggests that there are still some larger individual errors. More advanced models may help reduce these larger deviations and improve overall stability.\n"
   ]
  },
  {
   "cell_type": "code",
   "execution_count": 53,
   "id": "bd8f47ca-170a-4205-bcf6-cd3089280382",
   "metadata": {},
   "outputs": [
    {
     "name": "stdout",
     "output_type": "stream",
     "text": [
      "MAE: 22133.958753532483\n",
      "MSE: 2326290326.2739716\n",
      "RMSE: 48231.63200923199\n",
      "R²: 0.696715594169355\n"
     ]
    }
   ],
   "source": [
    "\n",
    "mae = mean_absolute_error(y_test, y_pred)\n",
    "mse = mean_squared_error(y_test, y_pred)\n",
    "rmse = np.sqrt(mse)\n",
    "r2 = r2_score(y_test, y_pred)\n",
    "\n",
    "print(\"MAE:\", mae)\n",
    "print(\"MSE:\", mse)\n",
    "print(\"RMSE:\", rmse)\n",
    "print(\"R²:\", r2)\n"
   ]
  },
  {
   "cell_type": "markdown",
   "id": "ec8e31aa-6d8b-4ebb-a3a7-34bb2c53ed90",
   "metadata": {},
   "source": [
    "We now try to check how the model is balancing the results between traning and testing:"
   ]
  },
  {
   "cell_type": "code",
   "execution_count": 55,
   "id": "86862130-f6cc-4bd2-a106-418e797e1215",
   "metadata": {},
   "outputs": [
    {
     "name": "stdout",
     "output_type": "stream",
     "text": [
      "R² train: 0.9299077520243804\n",
      "R² test: 0.696715594169355\n"
     ]
    }
   ],
   "source": [
    "r2_train = LR.score(X_train, y_train)\n",
    "\n",
    "r2_test = LR.score(X_test, y_test)\n",
    "\n",
    "print(\"R² train:\", r2_train)\n",
    "print(\"R² test:\", r2_test)\n"
   ]
  },
  {
   "cell_type": "markdown",
   "id": "68c9eee5-6ee9-4534-bbde-97c142acd061",
   "metadata": {},
   "source": [
    "As we can see above, while the model fits the training data quite well (R² = 0.93), performance drops when predicting unseen data (R² = 0.70), indicating some degree of **overfitting**."
   ]
  },
  {
   "cell_type": "markdown",
   "id": "3febddcb-62f6-4c34-a4c6-6c4dcb7fa39b",
   "metadata": {},
   "source": [
    "#### **We'll now experiment with a few more Regression algorithms**, including:\n",
    "\n",
    "To improve the initial performance observed with Linear Regression, we'll now experiment with several alternative regression algorithms, including:\n",
    "\n",
    "- **Ridge Regression**\n",
    "- **Lasso Regression**\n",
    "- **ElasticNet Regression**\n",
    "\n",
    "Each model will be trained and evaluated using the same data splits and error metrics (MAE, RMSE, R²).\n",
    "\n",
    "The goal is to identify which model provides the most accurate and stable price predictions. In particular, we aim to reduce large individual prediction errors (as reflected by RMSE), while maintaining strong overall explanatory power (R²).\n",
    "\n",
    "After testing all candidates, we'll compare their results and select the most suitable model for deployment in a real-world scenario."
   ]
  },
  {
   "cell_type": "markdown",
   "id": "d4cc8d0d-083f-4f50-944e-a6659b8aa30c",
   "metadata": {},
   "source": [
    "### Ridge Model"
   ]
  },
  {
   "cell_type": "markdown",
   "id": "8a56bd21-9d1c-41be-a0bd-e2394efb34bb",
   "metadata": {},
   "source": [
    "Since Ridge penalizes the magnitude of coefficients, it's important to ensure that all features are on the same scale. Without standardization, features with larger numerical ranges would disproportionately influence the penalty term, leading to suboptimal results.\n",
    "\n",
    "For that reason, we applied **StandardScaler** to standardize all features before training the Ridge model. This transforms all variables to have zero mean and unit variance, allowing the regularization term to treat all features equally regardless of their original scale.\n",
    "\n",
    "The model was then trained and predictions generated on the scaled test set."
   ]
  },
  {
   "cell_type": "code",
   "execution_count": 57,
   "id": "6649f072-7d77-4cca-bc3a-c1f051cd4494",
   "metadata": {},
   "outputs": [],
   "source": [
    "from sklearn.linear_model import Ridge\n",
    "from sklearn.preprocessing import StandardScaler\n",
    "\n",
    "scaler = StandardScaler()\n",
    "\n",
    "X_train_scaled = scaler.fit_transform(X_train)\n",
    "X_test_scaled = scaler.transform(X_test)\n",
    "\n",
    "ridge_model = Ridge(alpha=1.0)\n",
    "ridge_model.fit(X_train_scaled, y_train)\n",
    "y_pred_ridge = ridge_model.predict(X_test_scaled)"
   ]
  },
  {
   "cell_type": "code",
   "execution_count": 59,
   "id": "8f9e0cf1-3b3a-4960-9024-f6789bb7ec47",
   "metadata": {},
   "outputs": [
    {
     "name": "stdout",
     "output_type": "stream",
     "text": [
      "MAE (Ridge): 21694.322381585236\n",
      "MSE (Ridge): 2005190589.5620916\n",
      "RMSE (Ridge): 44779.354501400434\n",
      "R² (Ridge): 0.7385781861945819\n"
     ]
    }
   ],
   "source": [
    "mae_ridge = mean_absolute_error(y_test, y_pred_ridge)\n",
    "mse_ridge = mean_squared_error(y_test, y_pred_ridge)\n",
    "rmse_ridge = np.sqrt(mse_ridge)\n",
    "r2_ridge = r2_score(y_test, y_pred_ridge)\n",
    "\n",
    "print(\"MAE (Ridge):\", mae_ridge)\n",
    "print(\"MSE (Ridge):\", mse_ridge)\n",
    "print(\"RMSE (Ridge):\", rmse_ridge)\n",
    "print(\"R² (Ridge):\", r2_ridge)"
   ]
  },
  {
   "cell_type": "markdown",
   "id": "9eca004e-8b3d-4e6d-9ca6-41fe90cede80",
   "metadata": {},
   "source": [
    "### Lasso Model"
   ]
  },
  {
   "cell_type": "code",
   "execution_count": 61,
   "id": "a75a855c-833f-456a-8a5d-a1b172e24cd2",
   "metadata": {},
   "outputs": [],
   "source": [
    "from sklearn.linear_model import Lasso\n",
    "\n",
    "lasso_model = Lasso(alpha=1.0)\n",
    "lasso_model.fit(X_train_scaled, y_train)\n",
    "y_pred_lasso = lasso_model.predict(X_test_scaled)"
   ]
  },
  {
   "cell_type": "code",
   "execution_count": 63,
   "id": "d2c18599-c575-49e1-a2d4-9d250d84fe3c",
   "metadata": {},
   "outputs": [
    {
     "name": "stdout",
     "output_type": "stream",
     "text": [
      "MAE (Lasso): 22079.050147649483\n",
      "MSE (Lasso): 2310650433.081813\n",
      "RMSE (Lasso): 48069.225426272606\n",
      "R² (Lasso): 0.6987546069531274\n"
     ]
    }
   ],
   "source": [
    "mae_lasso = mean_absolute_error(y_test, y_pred_lasso)\n",
    "mse_lasso = mean_squared_error(y_test, y_pred_lasso)\n",
    "rmse_lasso = np.sqrt(mse_lasso)\n",
    "r2_lasso = r2_score(y_test, y_pred_lasso)\n",
    "\n",
    "print(\"MAE (Lasso):\", mae_lasso)\n",
    "print(\"MSE (Lasso):\", mse_lasso)\n",
    "print(\"RMSE (Lasso):\", rmse_lasso)\n",
    "print(\"R² (Lasso):\", r2_lasso)\n"
   ]
  },
  {
   "cell_type": "markdown",
   "id": "ba18d31c-4ad2-47a2-b897-ce2a29dd1f9a",
   "metadata": {},
   "source": [
    "### ElasticNet Model"
   ]
  },
  {
   "cell_type": "code",
   "execution_count": 65,
   "id": "33298a39-8f17-4e4e-9c1f-18207e61c768",
   "metadata": {},
   "outputs": [],
   "source": [
    "from sklearn.linear_model import ElasticNet\n",
    "\n",
    "elastic_model = ElasticNet(alpha=0.1, l1_ratio=0.5, max_iter=10000)\n",
    "elastic_model.fit(X_train_scaled, y_train)\n",
    "y_pred_elastic = elastic_model.predict(X_test_scaled)"
   ]
  },
  {
   "cell_type": "code",
   "execution_count": 67,
   "id": "6c3cb13e-d215-4546-bec0-8affe2c69f59",
   "metadata": {},
   "outputs": [
    {
     "name": "stdout",
     "output_type": "stream",
     "text": [
      "MAE (ElasticNet): 21568.84369904546\n",
      "MSE (ElasticNet): 1144206006.8590283\n",
      "RMSE (ElasticNet): 33826.114273723906\n",
      "R² (ElasticNet): 0.8508269432156741\n"
     ]
    }
   ],
   "source": [
    "mae_elastic = mean_absolute_error(y_test, y_pred_elastic)\n",
    "mse_elastic = mean_squared_error(y_test, y_pred_elastic)\n",
    "rmse_elastic = np.sqrt(mse_elastic)\n",
    "r2_elastic = r2_score(y_test, y_pred_elastic)\n",
    "\n",
    "print(\"MAE (ElasticNet):\", mae_elastic)\n",
    "print(\"MSE (ElasticNet):\", mse_elastic)\n",
    "print(\"RMSE (ElasticNet):\", rmse_elastic)\n",
    "print(\"R² (ElasticNet):\", r2_elastic)\n"
   ]
  },
  {
   "cell_type": "markdown",
   "id": "3eeb866f-e873-4e18-a302-75afc837f1b6",
   "metadata": {},
   "source": [
    "### Results"
   ]
  },
  {
   "cell_type": "code",
   "execution_count": 69,
   "id": "863d2967-f6c2-4376-8f76-feadb78f33a1",
   "metadata": {},
   "outputs": [
    {
     "data": {
      "image/png": "[encoded data removed]",
      "text/plain": [
       "<Figure size 1000x500 with 1 Axes>"
      ]
     },
     "metadata": {},
     "output_type": "display_data"
    }
   ],
   "source": [
    "\n",
    "model_names = ['Linear', 'Ridge', 'Lasso', 'ElasticNet']\n",
    "r2_scores = [0.6967, 0.7386, 0.6988, 0.8508]\n",
    "\n",
    "plt.figure(figsize=(10, 5))\n",
    "sns.barplot(x=model_names, y=r2_scores, palette='viridis')\n",
    "\n",
    "plt.title('R² Score per Model')\n",
    "plt.ylabel('R²')\n",
    "plt.ylim(0, 1)  # Como o R² está entre 0 e 1\n",
    "plt.xlabel('Modelo')\n",
    "plt.show()\n"
   ]
  },
  {
   "cell_type": "markdown",
   "id": "9fa824e6-aa9d-4ab9-83aa-926bf7553013",
   "metadata": {},
   "source": [
    "**Above we have the R² results of each model.**"
   ]
  },
  {
   "cell_type": "markdown",
   "id": "c8ebde20-6f98-44dd-a4ec-09a7f9f319cb",
   "metadata": {},
   "source": [
    "---\n",
    "### Model selection \n",
    "\n",
    "After training and evaluating all regression models, we compared their performance using R² scores:\n",
    "\n",
    "| Model      | R² Score |\n",
    "|------------|----------|\n",
    "| Linear     | 0.6967   |\n",
    "| Ridge      | 0.7386   |\n",
    "| Lasso      | 0.6988   |\n",
    "| ElasticNet | 0.8508   |\n",
    "\n",
    "The ElasticNet model significantly outperforms the others approximately **85% of the variance** in house prices.\n",
    "\n",
    "This suggests that ElasticNet — which combines both L1 (Lasso) and L2 (Ridge) regularization — strikes an effective balance between reducing overfitting and capturing complex relationships in the data.\n",
    "\n",
    "From a business perspective, adopting ElasticNet allows for more accurate and reliable property valuations, reducing pricing errors and improving decision-making confidence in real estate transactions or financial assessments.\n"
   ]
  },
  {
   "cell_type": "markdown",
   "id": "0101a821-e17e-4a59-a7ad-c20fad98ca1f",
   "metadata": {},
   "source": [
    "##### 📌 Is there Overfitting or Underfitting?\n",
    "\n",
    "To verify model generalization, we compared performance on both training and test data:\n",
    "\n",
    "- **R² (Train):** 0.9127\n",
    "- **R² (Test):** 0.8508\n"
   ]
  },
  {
   "cell_type": "code",
   "execution_count": 71,
   "id": "782a0db1-efea-478e-ab49-fc3a173b64cd",
   "metadata": {},
   "outputs": [
    {
     "name": "stdout",
     "output_type": "stream",
     "text": [
      "R² train: 0.9127020293544339\n",
      "R² test: 0.8508269432156741\n"
     ]
    }
   ],
   "source": [
    "r2_train = elastic_model.score(X_train_scaled, y_train)\n",
    "r2_test = elastic_model.score(X_test_scaled, y_test)\n",
    "\n",
    "print(\"R² train:\", r2_train)\n",
    "print(\"R² test:\", r2_test)\n"
   ]
  },
  {
   "cell_type": "markdown",
   "id": "1239f945-3729-4029-b309-952a590d9aad",
   "metadata": {},
   "source": [
    "The small difference between training and testing performance indicates that the ElasticNet model generalizes well to unseen data, with no significant overfitting.\n",
    "\n",
    "This gives confidence that the model can be safely deployed in real-world applications where future property price predictions are needed.\n"
   ]
  },
  {
   "cell_type": "markdown",
   "id": "84766659-99ff-47b2-9693-ffab873c0873",
   "metadata": {},
   "source": [
    "***Model Training and Evaluation completed*** ✅"
   ]
  },
  {
   "cell_type": "markdown",
   "id": "777a0f18-c542-4a03-9eb6-1820001cca04",
   "metadata": {},
   "source": [
    "## 6. Final Pipeline Implementation 📦\n",
    "\n",
    "After selecting ElasticNet as the best-performing model, we implemented a full machine learning pipeline. This pipeline integrates both data preprocessing (standardization) and model training, ensuring that future data can be processed and predicted seamlessly.\n",
    "\n",
    "The pipeline was trained using the entire dataset to maximize learning from all available data. \n"
   ]
  },
  {
   "cell_type": "code",
   "execution_count": 73,
   "id": "d0ec2e8e-2c14-4757-9d05-2bda2e60d937",
   "metadata": {},
   "outputs": [],
   "source": [
    "from sklearn.pipeline import Pipeline\n",
    "\n",
    "# Pipeline final\n",
    "pipeline = Pipeline([\n",
    "    ('scaler', StandardScaler()),\n",
    "    ('model', ElasticNet(alpha=0.1, l1_ratio=0.5, max_iter=10000))\n",
    "])\n",
    "\n",
    "pipeline.fit(X, y)\n",
    "y_pred_pipeline = pipeline.predict(X)\n"
   ]
  },
  {
   "cell_type": "markdown",
   "id": "ce557ec7-6890-4abb-b67a-d06203f90c10",
   "metadata": {},
   "source": [
    "*The final performance metrics*"
   ]
  },
  {
   "cell_type": "code",
   "execution_count": 75,
   "id": "56a6e87d-2b83-48c5-9da3-6a971784fd08",
   "metadata": {},
   "outputs": [
    {
     "name": "stdout",
     "output_type": "stream",
     "text": [
      "MAE (Pipeline): 15462.670558595699\n",
      "MSE (Pipeline): 583329086.2894785\n",
      "RMSE (Pipeline): 24152.206654661568\n",
      "R² (Pipeline): 0.9075077468674699\n"
     ]
    }
   ],
   "source": [
    "mae_final = mean_absolute_error(y, y_pred_pipeline)\n",
    "mse_final = mean_squared_error(y, y_pred_pipeline)\n",
    "rmse_final = np.sqrt(mse_final)\n",
    "r2_final = r2_score(y, y_pred_pipeline)\n",
    "\n",
    "print(\"MAE (Pipeline):\", mae_final)\n",
    "print(\"MSE (Pipeline):\", mse_final)\n",
    "print(\"RMSE (Pipeline):\", rmse_final)\n",
    "print(\"R² (Pipeline):\", r2_final)"
   ]
  },
  {
   "cell_type": "markdown",
   "id": "576b7196-9b0f-4cba-9d29-00d4e02f32af",
   "metadata": {},
   "source": [
    "The final performance metrics are:\n",
    "\n",
    "- **MAE:** \\$15,462  \n",
    "- **RMSE:** \\$24,152  \n",
    "- **R²:** 0.9075\n",
    "\n",
    "This means that, on average, the model predicts house prices with an absolute deviation of only ~8.5% relative to the average sale price. Such accuracy is highly valuable for real estate pricing, mortgage risk assessments, and investment decision-making.\n",
    "\n",
    "The pipeline structure allows easy deployment into production environments or integration into business applications for consistent, automated property valuation."
   ]
  },
  {
   "cell_type": "markdown",
   "id": "b5d417ef-4a0c-4bd4-bb23-e4e462241efb",
   "metadata": {},
   "source": [
    "***Final Pipeline Implementation*** ✅"
   ]
  },
  {
   "cell_type": "markdown",
   "id": "9417b399-9db3-40cb-9baa-4a802b95c48b",
   "metadata": {},
   "source": [
    "## 7. Final Conclusion 📜\n",
    "\n",
    "This project successfully developed a robust machine learning pipeline to predict house sale prices based on various property features.\n",
    "\n",
    "Starting with an initial Linear Regression model, we iteratively improved performance by experimenting with different regularization techniques (Ridge, Lasso, and ElasticNet). The ElasticNet model ultimately delivered the best results.\n",
    "\n",
    "By integrating preprocessing and model training into a full pipeline, we achieved:\n",
    "\n",
    "- **R²:** 0.9075 (explaining ~91% of price variability)\n",
    "- **MAE:** \\$15,462 — representing an average error of only ~8.5% relative to the average house price.\n",
    "\n",
    "Such predictive accuracy can provide significant business value for real estate agencies, banks, and investment firms by improving price estimation, supporting mortgage decisions, and identifying pricing opportunities.\n",
    "\n",
    "The pipeline is fully reusable and ready for deployment on future datasets, allowing automated property valuation in production environments.\n"
   ]
  },
  {
   "cell_type": "markdown",
   "id": "da3e1e61-b799-4de8-b66c-7e536decf6a0",
   "metadata": {},
   "source": [
    "## Authors"
   ]
  },
  {
   "cell_type": "markdown",
   "id": "27bb38c4-9f14-4dcb-9cdd-6c8baedc47df",
   "metadata": {},
   "source": [
    "Júlio Silva"
   ]
  }
 ],
 "metadata": {
  "kernelspec": {
   "display_name": "Python [conda env:base] *",
   "language": "python",
   "name": "conda-base-py"
  },
  "language_info": {
   "codemirror_mode": {
    "name": "ipython",
    "version": 3
   },
   "file_extension": ".py",
   "mimetype": "text/x-python",
   "name": "python",
   "nbconvert_exporter": "python",
   "pygments_lexer": "ipython3",
   "version": "3.12.7"
  }
 },
 "nbformat": 4,
 "nbformat_minor": 5
}
